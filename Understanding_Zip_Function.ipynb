{
  "nbformat": 4,
  "nbformat_minor": 0,
  "metadata": {
    "colab": {
      "provenance": []
    },
    "kernelspec": {
      "name": "python3",
      "display_name": "Python 3"
    },
    "language_info": {
      "name": "python"
    }
  },
  "cells": [
    {
      "cell_type": "markdown",
      "source": [
        "**INTRODUCTION**\n",
        "\n",
        "The zip() function is like a tool that pairs up items from multiple lists or sequences. Imagine you have two lists: one with names and another with ages. Using zip(), you can combine them so that each name is matched with the corresponding age, creating pairs like (\"Alice\", 25). This is handy when you want to work with related data stored in separate lists.\n"
      ],
      "metadata": {
        "id": "N36yrzNoAWBD"
      }
    },
    {
      "cell_type": "markdown",
      "source": [
        "**EXAMPLE**"
      ],
      "metadata": {
        "id": "LyOlKWtvCiPC"
      }
    },
    {
      "cell_type": "code",
      "source": [
        "names = [\"Alice\", \"Patrick\", \"Joseph\"]\n",
        "ages = [25, 26, 21]\n",
        "\n",
        "combined = zip(names, ages)\n",
        "\n",
        "print(list(combined))\n"
      ],
      "metadata": {
        "colab": {
          "base_uri": "https://localhost:8080/"
        },
        "id": "keB4gfr9AdKw",
        "outputId": "2aecf3d7-e296-4e4f-8843-0bfaf60da0c3"
      },
      "execution_count": 2,
      "outputs": [
        {
          "output_type": "stream",
          "name": "stdout",
          "text": [
            "[('Alice', 25), ('Patrick', 26), ('Joseph', 21)]\n"
          ]
        }
      ]
    },
    {
      "cell_type": "markdown",
      "source": [
        "**UNZIPPING**\n",
        "\n",
        "\"unzipping\" is like taking a list of paired items and splitting them back into their original separate lists. Imagine you have a list where each element is a pair (a tuple) containing a name and an age. Unzipping would mean separating this list into two lists: one containing all the names and the other containing all the ages. This is done using the zip() function along with the * operator, which helps in unpacking the list of pairs into individual lists.\n",
        "\n",
        "\n"
      ],
      "metadata": {
        "id": "M4trE5z2DveR"
      }
    },
    {
      "cell_type": "markdown",
      "source": [
        "**EXAMPLE**\n",
        "\n",
        "list contains tuples, each with a name and an age. By using zip(*list), we separate the names and ages into two tuples. The * operator unpacks the paired_list, allowing zip() to group the first elements together and the second elements together, effectively reversing the original pairing process."
      ],
      "metadata": {
        "id": "B9sw-TYWGDIY"
      }
    },
    {
      "cell_type": "code",
      "source": [
        "list = [('Alice', 25), ('Patrick', 26), ('Joseph', 21)]\n",
        "\n",
        "names, ages = zip(*list)\n",
        "\n",
        "print(names)\n",
        "print(ages)"
      ],
      "metadata": {
        "colab": {
          "base_uri": "https://localhost:8080/"
        },
        "id": "8PO2Sx91E708",
        "outputId": "39ad6971-4e71-4bf2-be79-890308041b44"
      },
      "execution_count": 10,
      "outputs": [
        {
          "output_type": "stream",
          "name": "stdout",
          "text": [
            "('Alice', 'Patrick', 'Joseph')\n",
            "(25, 26, 21)\n"
          ]
        }
      ]
    },
    {
      "cell_type": "markdown",
      "source": [
        "**DICTIONARIES**\n",
        "\n",
        "You can create a dictionary by combining two related lists: one containing the keys and the other containing the corresponding values. A straightforward way to achieve this is by using the zip() function along with the dict() constructor. The zip() function pairs elements from both lists based on their positions, and then dict() transforms these pairs into a dictionary."
      ],
      "metadata": {
        "id": "7s78Fsl1G-qX"
      }
    },
    {
      "cell_type": "markdown",
      "source": [
        "**EXAMPLE**\n",
        "\n",
        "The keys list contains the dictionary keys, and the values list contains the corresponding values. The zip() function pairs each key with its corresponding value, and the dict() constructor then creates the dictionary from these pairs. This method provides a convenient and efficient way to build dictionaries from two related sequences.\n",
        "\n",
        "\n"
      ],
      "metadata": {
        "id": "o8Yuu2eAIc9t"
      }
    },
    {
      "cell_type": "code",
      "source": [
        "keys = ['name', 'age', 'city']\n",
        "values = ['Patrick', 26, 'New York']\n",
        "\n",
        "person= dict(zip(keys, values))\n",
        "\n",
        "print(person)\n"
      ],
      "metadata": {
        "colab": {
          "base_uri": "https://localhost:8080/"
        },
        "id": "Jih07J2HHmbF",
        "outputId": "dfb0d81b-a556-4275-a019-36999fc3dda8"
      },
      "execution_count": 12,
      "outputs": [
        {
          "output_type": "stream",
          "name": "stdout",
          "text": [
            "{'name': 'Patrick', 'age': 26, 'city': 'New York'}\n"
          ]
        }
      ]
    },
    {
      "cell_type": "markdown",
      "source": [
        "**Parallel Iteration**\n",
        "\n",
        "Parallel Iteration means going through multiple lists or sequences at the same time, processing their items together. This is helpful when you have related data in separate lists and want to handle corresponding elements simultaneously. For instance, if you have one list of names and another list of ages, you can pair each name with its matching age and work with them together."
      ],
      "metadata": {
        "id": "nAFK3Pz6JA03"
      }
    },
    {
      "cell_type": "markdown",
      "source": [
        "**EXAMPLE**\n",
        "\n",
        "zip(names, ages) creates pairs like ('Alice', 25), ('Patrick', 26), and ('Joseph', 21). The for loop then goes through each pair, allowing you to access both the name and age together and print them out. This method makes it easy to handle related data stored in separate lists."
      ],
      "metadata": {
        "id": "mtWgttPIKWR_"
      }
    },
    {
      "cell_type": "code",
      "source": [
        "names = ['Alice', 'Patrick', 'Joseph']\n",
        "ages = [25, 26, 21]\n",
        "\n",
        "for name, age in zip(names, ages):\n",
        "    print(f'{name} is {age} years old.')\n"
      ],
      "metadata": {
        "colab": {
          "base_uri": "https://localhost:8080/"
        },
        "id": "oK1EcMT8KVtA",
        "outputId": "644a6fdd-9e51-4e68-9e27-a53c7937a3a8"
      },
      "execution_count": 13,
      "outputs": [
        {
          "output_type": "stream",
          "name": "stdout",
          "text": [
            "Alice is 25 years old.\n",
            "Patrick is 26 years old.\n",
            "Joseph is 21 years old.\n"
          ]
        }
      ]
    },
    {
      "cell_type": "markdown",
      "source": [
        "**CONCLUSION**\n",
        "\n",
        "The zip() function in Python is a useful tool that helps combine two or more lists (or other collections) by matching their items based on position. This makes it easier to work with related data stored separately. Instead of writing extra code to handle multiple lists, zip() allows you to process them together in a simple and clear way."
      ],
      "metadata": {
        "id": "0LW5eNgHLeQL"
      }
    }
  ]
}