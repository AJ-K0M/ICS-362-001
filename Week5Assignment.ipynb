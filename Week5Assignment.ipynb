{
  "nbformat": 4,
  "nbformat_minor": 0,
  "metadata": {
    "colab": {
      "provenance": [],
      "authorship_tag": "ABX9TyNe1i4qr24KfXCkrueoXIlZ"
    },
    "kernelspec": {
      "name": "python3",
      "display_name": "Python 3"
    },
    "language_info": {
      "name": "python"
    }
  },
  "cells": [
    {
      "cell_type": "code",
      "execution_count": 46,
      "metadata": {
        "id": "xLBi0iAnTVWO"
      },
      "outputs": [],
      "source": [
        "import pandas as pd\n",
        "airports = pd.read_csv('airport1.csv')\n",
        "weather = pd.read_csv('weather.csv')"
      ]
    },
    {
      "cell_type": "markdown",
      "source": [
        "This airport.csv dataset happens to be wrong because according to my research on \"https://geodata.bts.gov/datasets/usdot::aviation-facilities/explore?location=70.136437%2C-146.064532%2C6.68\", the Northernmost airport is Wiley Post Will Rogers memorial. lat: 71.285, Lon: \t-156.769. While Hopkins Airport is in the US, the lat and lon are wrong and its not the northernmost airport."
      ],
      "metadata": {
        "id": "l7AxVbBYfnXb"
      }
    },
    {
      "cell_type": "markdown",
      "source": [
        "I changed the lat and lon of dillant Hopkins to th correct one based on my research."
      ],
      "metadata": {
        "id": "QQIata2hsCkB"
      }
    },
    {
      "cell_type": "code",
      "source": [
        "northernmost_airports = airports.sort_values('lat', ascending=False).head(5)\n",
        "print(\"Top 5 Northernmost Airports:\")\n",
        "print(northernmost_airports[['faa','name', 'lat', 'lon']])\n",
        "\n",
        "print(\"\\nThe northernmost airport in the US is:\")\n",
        "print(northernmost_airports.iloc[0][['faa','name', 'lat', 'lon']])\n"
      ],
      "metadata": {
        "colab": {
          "base_uri": "https://localhost:8080/"
        },
        "id": "j4H_GoxZaIBo",
        "outputId": "4e382211-2d39-4c7e-db2e-0f488fea6db2"
      },
      "execution_count": 47,
      "outputs": [
        {
          "output_type": "stream",
          "name": "stdout",
          "text": [
            "Top 5 Northernmost Airports:\n",
            "      faa                                        name        lat         lon\n",
            "230   BRW                  Wiley Post Will Rogers Mem  71.285446 -156.766003\n",
            "110   AIN                          Wainwright Airport  70.638056 -159.994722\n",
            "708   K03                               Wainwright As  70.613378 -159.860350\n",
            "152   ATK  Atqasuk Edward Burnell Sr Memorial Airport  70.467300 -157.436000\n",
            "1363  UUK                        Ugnu-Kuparuk Airport  70.330833 -149.597500\n",
            "\n",
            "The northernmost airport in the US is:\n",
            "faa                            BRW\n",
            "name    Wiley Post Will Rogers Mem\n",
            "lat                      71.285446\n",
            "lon                    -156.766003\n",
            "Name: 230, dtype: object\n"
          ]
        }
      ]
    },
    {
      "cell_type": "markdown",
      "source": [
        "This one is tricky because it depends on how you look at is especially when it comes to Eareckson As. If we are using the Prime Meridian, Eareckson will be the easternmost airport. If we are using continential US definations, then Eastport Airport will be the most eastern. MYF and DVT have the wrong lon coordinates.I changed the lat and lon for DVT and changed timezones for both."
      ],
      "metadata": {
        "id": "H49n93pNk7vh"
      }
    },
    {
      "cell_type": "code",
      "source": [
        "easternmost_airports = airports.sort_values('lon', ascending=False).head(5)\n",
        "print(\"\\nTop 5 Easternmost Airports:\")\n",
        "print(easternmost_airports[['faa','name', 'lat', 'lon']])\n",
        "\n",
        "print(\"\\nThe easternmost airport in the US is:\")\n",
        "print(easternmost_airports.iloc[0][['faa','name', 'lat', 'lon']])"
      ],
      "metadata": {
        "colab": {
          "base_uri": "https://localhost:8080/"
        },
        "id": "OUjObmTXffUW",
        "outputId": "40e1d8f0-4549-4d28-e73c-f46626b70719"
      },
      "execution_count": 48,
      "outputs": [
        {
          "output_type": "stream",
          "name": "stdout",
          "text": [
            "\n",
            "Top 5 Easternmost Airports:\n",
            "      faa                                 name        lat         lon\n",
            "1290  SYA                         Eareckson As  52.712275  174.113620\n",
            "444   EPM           Eastport Municipal Airport  44.910111  -67.012694\n",
            "624   HUL                         Houlton Intl  46.123083  -67.792056\n",
            "259   CAR                         Caribou Muni  46.871500  -68.017917\n",
            "1101  PQI  Northern Maine Rgnl At Presque Isle  46.688958  -68.044797\n",
            "\n",
            "The easternmost airport in the US is:\n",
            "faa              SYA\n",
            "name    Eareckson As\n",
            "lat        52.712275\n",
            "lon        174.11362\n",
            "Name: 1290, dtype: object\n"
          ]
        }
      ]
    },
    {
      "cell_type": "markdown",
      "source": [
        "Newark Airport (EWR) had a super high wind speed of 1048.36, which is probably an error or outlier. Ignoring that, the highest wind speed was 23.02 at LaGuardia (LGA), followed by 20.71 at JFK."
      ],
      "metadata": {
        "id": "_iZeD7Yqpo9y"
      }
    },
    {
      "cell_type": "code",
      "source": [
        "wind = weather.query(\"year == 2013 and month == 2 and day == 12\")\n",
        "wind_by_airport = wind.groupby(\"origin\")[\"wind_speed\"].mean()\n",
        "windiest_airport = wind_by_airport.idxmax()\n",
        "print(f\"Windiest airport on Feb 12, 2013: {windiest_airport}\")\n"
      ],
      "metadata": {
        "colab": {
          "base_uri": "https://localhost:8080/"
        },
        "id": "r0wDi9qxaSEw",
        "outputId": "36e577cc-24a6-472a-92db-a424f4302468"
      },
      "execution_count": 65,
      "outputs": [
        {
          "output_type": "stream",
          "name": "stdout",
          "text": [
            "Windiest airport on Feb 12, 2013: EWR\n"
          ]
        }
      ]
    }
  ]
}