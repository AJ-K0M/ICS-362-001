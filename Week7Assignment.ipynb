{
  "nbformat": 4,
  "nbformat_minor": 0,
  "metadata": {
    "colab": {
      "provenance": [],
      "authorship_tag": "ABX9TyNgcea6Uj0l0ZkHjJtvKIxO"
    },
    "kernelspec": {
      "name": "python3",
      "display_name": "Python 3"
    },
    "language_info": {
      "name": "python"
    }
  },
  "cells": [
    {
      "cell_type": "code",
      "execution_count": 19,
      "metadata": {
        "colab": {
          "base_uri": "https://localhost:8080/"
        },
        "id": "_fxniVuYdAcS",
        "outputId": "946ca8f3-2b27-4aef-aa59-e6cc51637e7e"
      },
      "outputs": [
        {
          "output_type": "stream",
          "name": "stdout",
          "text": [
            "    Name  Dune: Part Two  Inside Out 2  Deadpool & Wolverine  \\\n",
            "0   Temi             8.0           7.0                   9.0   \n",
            "1  Kemji             7.0           8.0                   NaN   \n",
            "2  Queen             NaN           8.0                   7.0   \n",
            "3    Asa             6.0           7.0                   8.0   \n",
            "4   Tobi             7.0           NaN                   7.0   \n",
            "\n",
            "   Furiosa: A Mad Max Saga  The Fall Guy  Kingdom of the Planet of the Apes  \n",
            "0                      NaN           7.0                                8.0  \n",
            "1                      7.0           8.0                                7.0  \n",
            "2                      8.0           7.0                                9.0  \n",
            "3                      7.0           NaN                                8.0  \n",
            "4                      8.0           7.0                                NaN  \n"
          ]
        }
      ],
      "source": [
        "import pandas as pd\n",
        "\n",
        "df = pd.read_csv('movie_ratings.csv')\n",
        "print(df)\n"
      ]
    },
    {
      "cell_type": "code",
      "source": [
        "user_avg = df.set_index('Name').mean(axis=1)\n",
        "movie_avg = df.set_index('Name').mean(axis=0)\n",
        "\n",
        "print(\"\\nAverage Ratings by User:\")\n",
        "print(user_avg)\n",
        "print(\"\\nAverage Ratings by Movie:\")\n",
        "print(movie_avg)"
      ],
      "metadata": {
        "colab": {
          "base_uri": "https://localhost:8080/"
        },
        "id": "dtFZi3oaiODH",
        "outputId": "66339dd8-c735-45ce-d553-a18718344e01"
      },
      "execution_count": 14,
      "outputs": [
        {
          "output_type": "stream",
          "name": "stdout",
          "text": [
            "\n",
            "Average Ratings by User:\n",
            "Name\n",
            "Temi     7.80\n",
            "Kemji    7.40\n",
            "Queen    7.80\n",
            "Asa      7.20\n",
            "Tobi     7.25\n",
            "dtype: float64\n",
            "\n",
            "Average Ratings by Movie:\n",
            "Dune: Part Two                       7.00\n",
            "Inside Out 2                         7.50\n",
            "Deadpool & Wolverine                 7.75\n",
            "Furiosa: A Mad Max Saga              7.50\n",
            "The Fall Guy                         7.25\n",
            "Kingdom of the Planet of the Apes    8.00\n",
            "dtype: float64\n"
          ]
        }
      ]
    },
    {
      "cell_type": "code",
      "source": [
        "def normalize_ratings(df):\n",
        "    numeric_df = df.set_index('Name')\n",
        "    normalized_df = numeric_df.apply(lambda x: (x - x.min()) / (x.max() - x.min()) if x.max() > x.min() else x, axis=1)\n",
        "    return normalized_df.reset_index()\n",
        "\n",
        "normalized_df = normalize_ratings(df)\n",
        "print(\"\\nNormalized Ratings DataFrame:\")\n",
        "print(normalized_df)\n",
        "\n",
        "norm_user_avg = normalized_df.set_index('Name').mean(axis=1)\n",
        "norm_movie_avg = normalized_df.set_index('Name').mean(axis=0)\n",
        "\n",
        "print(\"\\nAverage Normalized Ratings by User:\")\n",
        "print(norm_user_avg)\n",
        "print(\"\\nAverage Normalized Ratings by Movie:\")\n",
        "print(norm_movie_avg)"
      ],
      "metadata": {
        "colab": {
          "base_uri": "https://localhost:8080/"
        },
        "id": "rmOtXWetiT2h",
        "outputId": "2567601a-21eb-41ed-c63e-eb40b936968f"
      },
      "execution_count": 18,
      "outputs": [
        {
          "output_type": "stream",
          "name": "stdout",
          "text": [
            "\n",
            "Normalized Ratings DataFrame:\n",
            "    Name  Dune: Part Two  Inside Out 2  Deadpool & Wolverine  \\\n",
            "0   Temi             0.5           0.0                   1.0   \n",
            "1  Kemji             0.0           1.0                   NaN   \n",
            "2  Queen             NaN           0.5                   0.0   \n",
            "3    Asa             0.0           0.5                   1.0   \n",
            "4   Tobi             0.0           NaN                   0.0   \n",
            "\n",
            "   Furiosa: A Mad Max Saga  The Fall Guy  Kingdom of the Planet of the Apes  \n",
            "0                      NaN           0.0                                0.5  \n",
            "1                      0.0           1.0                                0.0  \n",
            "2                      0.5           0.0                                1.0  \n",
            "3                      0.5           NaN                                1.0  \n",
            "4                      1.0           0.0                                NaN  \n",
            "\n",
            "Average Normalized Ratings by User:\n",
            "Name\n",
            "Temi     0.40\n",
            "Kemji    0.40\n",
            "Queen    0.40\n",
            "Asa      0.60\n",
            "Tobi     0.25\n",
            "dtype: float64\n",
            "\n",
            "Average Normalized Ratings by Movie:\n",
            "Dune: Part Two                       0.125\n",
            "Inside Out 2                         0.500\n",
            "Deadpool & Wolverine                 0.500\n",
            "Furiosa: A Mad Max Saga              0.500\n",
            "The Fall Guy                         0.250\n",
            "Kingdom of the Planet of the Apes    0.625\n",
            "dtype: float64\n"
          ]
        }
      ]
    },
    {
      "cell_type": "markdown",
      "source": [
        "Normalized ratings have key benefits over actual ratings. They remove personal rating biases seen in how differently Temi and Queen score movies, make true preferences clearer by expanding the tight 6-9 rating scale, and help handle missing ratings in our data. They also make recommendations better by focusing on what movies users rank highest rather than actual scores. Yet they have downsides too. Normalized ratings lose information about true quality by making different scores equivalent, can make small differences seem bigger than they are, create false patterns when users like Kemji and Tobi haven't rated all movies, fail completely if someone rates everything the same, and are harder to understand than simple numbers."
      ],
      "metadata": {
        "id": "-38Ss9PjiaKm"
      }
    }
  ]
}