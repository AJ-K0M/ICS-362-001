{
  "nbformat": 4,
  "nbformat_minor": 0,
  "metadata": {
    "colab": {
      "provenance": [],
      "authorship_tag": "ABX9TyP3qMk3vO1tLPGl3EleL/Wl"
    },
    "kernelspec": {
      "name": "python3",
      "display_name": "Python 3"
    },
    "language_info": {
      "name": "python"
    }
  },
  "cells": [
    {
      "cell_type": "markdown",
      "source": [
        "adult.csv"
      ],
      "metadata": {
        "id": "xYa5uaJfqHJe"
      }
    },
    {
      "cell_type": "code",
      "execution_count": 46,
      "metadata": {
        "colab": {
          "base_uri": "https://localhost:8080/"
        },
        "collapsed": true,
        "id": "dAAWNZNMZGym",
        "outputId": "ba27df04-11ef-45c3-9c1e-0f57a9f31bdc"
      },
      "outputs": [
        {
          "output_type": "stream",
          "name": "stdout",
          "text": [
            "       age          workclass  fnlwgt    education  education_num  \\\n",
            "0       39          State-gov   77516    Bachelors             13   \n",
            "1       50   Self-emp-not-inc   83311    Bachelors             13   \n",
            "2       38            Private  215646      HS-grad              9   \n",
            "3       53            Private  234721         11th              7   \n",
            "4       28            Private  338409    Bachelors             13   \n",
            "...    ...                ...     ...          ...            ...   \n",
            "32556   27            Private  257302   Assoc-acdm             12   \n",
            "32557   40            Private  154374      HS-grad              9   \n",
            "32558   58            Private  151910      HS-grad              9   \n",
            "32559   22            Private  201490      HS-grad              9   \n",
            "32560   52       Self-emp-inc  287927      HS-grad              9   \n",
            "\n",
            "            marital_status          occupation    relationship    race  \\\n",
            "0            Never-married        Adm-clerical   Not-in-family   White   \n",
            "1       Married-civ-spouse     Exec-managerial         Husband   White   \n",
            "2                 Divorced   Handlers-cleaners   Not-in-family   White   \n",
            "3       Married-civ-spouse   Handlers-cleaners         Husband   Black   \n",
            "4       Married-civ-spouse      Prof-specialty            Wife   Black   \n",
            "...                    ...                 ...             ...     ...   \n",
            "32556   Married-civ-spouse        Tech-support            Wife   White   \n",
            "32557   Married-civ-spouse   Machine-op-inspct         Husband   White   \n",
            "32558              Widowed        Adm-clerical       Unmarried   White   \n",
            "32559        Never-married        Adm-clerical       Own-child   White   \n",
            "32560   Married-civ-spouse     Exec-managerial            Wife   White   \n",
            "\n",
            "           sex  capital_gain  capital_loss  hours_per_week  native_country  \\\n",
            "0         Male          2174             0              40   United-States   \n",
            "1         Male             0             0              13   United-States   \n",
            "2         Male             0             0              40   United-States   \n",
            "3         Male             0             0              40   United-States   \n",
            "4       Female             0             0              40            Cuba   \n",
            "...        ...           ...           ...             ...             ...   \n",
            "32556   Female             0             0              38   United-States   \n",
            "32557     Male             0             0              40   United-States   \n",
            "32558   Female             0             0              40   United-States   \n",
            "32559     Male             0             0              20   United-States   \n",
            "32560   Female         15024             0              40   United-States   \n",
            "\n",
            "       income  \n",
            "0       <=50K  \n",
            "1       <=50K  \n",
            "2       <=50K  \n",
            "3       <=50K  \n",
            "4       <=50K  \n",
            "...       ...  \n",
            "32556   <=50K  \n",
            "32557    >50K  \n",
            "32558   <=50K  \n",
            "32559   <=50K  \n",
            "32560    >50K  \n",
            "\n",
            "[30694 rows x 15 columns]\n"
          ]
        },
        {
          "output_type": "stream",
          "name": "stderr",
          "text": [
            "<ipython-input-46-e2895fda7e2e>:10: FutureWarning: A value is trying to be set on a copy of a DataFrame or Series through chained assignment using an inplace method.\n",
            "The behavior will change in pandas 3.0. This inplace method will never work because the intermediate object on which we are setting values always behaves as a copy.\n",
            "\n",
            "For example, when doing 'df[col].method(value, inplace=True)', try using 'df.method({col: value}, inplace=True)' or df[col] = df[col].method(value) instead, to perform the operation inplace on the original object.\n",
            "\n",
            "\n",
            "  df['native_country'].fillna(\"Unknown\", inplace=True)\n"
          ]
        }
      ],
      "source": [
        "import pandas as pd\n",
        "\n",
        "column_names = ['age', 'workclass', 'fnlwgt', 'education', 'education_num', 'marital_status',\n",
        "'occupation', 'relationship', 'race', 'sex', 'capital_gain', 'capital_loss','hours_per_week', 'native_country', 'income']\n",
        "\n",
        "df = pd.read_csv(\"adult.csv\", names=column_names)\n",
        "\n",
        "df.replace(\" ?\", pd.NA, inplace=True)\n",
        "df.dropna(subset=['workclass', 'occupation'], inplace=True)\n",
        "df['native_country'].fillna(\"Unknown\", inplace=True)\n",
        "\n",
        "numeric_columns = ['age', 'education_num', 'capital_gain', 'capital_loss', 'hours_per_week']\n",
        "df[numeric_columns] = df[numeric_columns].apply(pd.to_numeric, errors='coerce')\n",
        "\n",
        "df.columns = df.columns.str.lower().str.replace(' ', '_')\n",
        "df.drop_duplicates(inplace=True)\n",
        "\n",
        "print(df)\n"
      ]
    },
    {
      "cell_type": "code",
      "source": [
        "df_agg = df.groupby('education').agg(\n",
        "    avg_age=('age', 'mean'),\n",
        "    avg_hours_per_week=('hours_per_week', 'mean'),\n",
        "    avg_capital_gain=('capital_gain', 'mean'),\n",
        "    avg_capital_loss=('capital_loss', 'mean'),\n",
        "    total_count=('income', 'count'),\n",
        "    high_income_ratio=('income', lambda x: (x == '>50K').mean())\n",
        ").reset_index()\n",
        "\n",
        "print(df_agg)"
      ],
      "metadata": {
        "colab": {
          "base_uri": "https://localhost:8080/"
        },
        "id": "QX9KaHcs1Ohh",
        "outputId": "2a72aeb9-1fea-4551-c102-4f9dacac09d2"
      },
      "execution_count": 38,
      "outputs": [
        {
          "output_type": "stream",
          "name": "stdout",
          "text": [
            "        education    avg_age  avg_hours_per_week  avg_capital_gain  \\\n",
            "0            10th  37.892900           37.527076        390.673887   \n",
            "1            11th  32.367424           34.196023        224.433712   \n",
            "2            12th  32.104326           35.908397        273.262087   \n",
            "3         1st-4th  45.038961           38.493506        111.720779   \n",
            "4         5th-6th  41.850993           39.009934        169.923841   \n",
            "5         7th-8th  47.524476           40.234266        238.286713   \n",
            "6             9th  40.384449           38.667387        351.220302   \n",
            "7      Assoc-acdm  37.215686           41.161765        648.562745   \n",
            "8       Assoc-voc  38.233157           41.967449        729.529902   \n",
            "9       Bachelors  38.654826           42.954633       1767.565444   \n",
            "10      Doctorate  47.103015           47.630653       4849.165829   \n",
            "11        HS-grad  38.632366           41.038550        595.425560   \n",
            "12        Masters  43.780765           44.185185       2592.045400   \n",
            "13      Preschool  41.911111           36.644444       1018.177778   \n",
            "14    Prof-school  44.139785           48.039427      10666.254480   \n",
            "15   Some-college  36.107153           39.443985        585.258646   \n",
            "\n",
            "    avg_capital_loss  total_count  high_income_ratio  \n",
            "0          63.823105          831                0.0  \n",
            "1          52.140152         1056                0.0  \n",
            "2          31.552163          393                0.0  \n",
            "3          52.720779          154                0.0  \n",
            "4          75.258278          302                0.0  \n",
            "5          71.248252          572                0.0  \n",
            "6          28.479482          463                0.0  \n",
            "7          96.036275         1020                0.0  \n",
            "8          71.283119         1321                0.0  \n",
            "9         118.670463         5180                0.0  \n",
            "10        259.645729          398                0.0  \n",
            "11         70.229395         9961                0.0  \n",
            "12        170.472521         1674                0.0  \n",
            "13         75.355556           45                0.0  \n",
            "14        236.406810          558                0.0  \n",
            "15         73.227017         6766                0.0  \n"
          ]
        }
      ]
    },
    {
      "cell_type": "markdown",
      "source": [
        "The dataset had inconsistent column names, missing values in workclass and occupation, and text-based numbers. It was tidied by standardizing names, handling missing data, converting numbers, and removing duplicates. After grouping by education level, the data showed that higher education is linked to higher income, longer work hours, and different career paths, with master's degree holders having the highest percentage of high-income earners. The final dataset provides insights into how education affects earnings and workforce demographics."
      ],
      "metadata": {
        "id": "3fEGx9P2xC-i"
      }
    },
    {
      "cell_type": "markdown",
      "source": [
        "student_results.csv"
      ],
      "metadata": {
        "id": "2JWhQq82kj5-"
      }
    },
    {
      "cell_type": "code",
      "source": [
        "import pandas as pd\n",
        "\n",
        "names=['id', 'name', 'phone', 'sex_and_age', 'test_number', 'term_1', 'term_2', 'term_3']\n",
        "\n",
        "df = pd.read_csv(\"student_results.csv\",names=names )\n",
        "\n",
        "df = df.rename(columns=lambda x: x.replace(' ', '_').lower())\n",
        "\n",
        "df[['sex', 'age']] = df['sex_and_age'].str.split('_', expand=True)\n",
        "df['age'] = pd.to_numeric(df['age'], errors='coerce')\n",
        "df.dropna(subset=['age'], inplace=True)\n",
        "df['age'] = df['age'].astype(int)\n",
        "\n",
        "df[['term_1', 'term_2', 'term_3']] = df[['term_1', 'term_2', 'term_3']].apply(pd.to_numeric, errors='coerce')\n",
        "\n",
        "df['average_score'] = df[['term_1', 'term_2', 'term_3']].mean(axis=1)\n",
        "\n",
        "print(df)"
      ],
      "metadata": {
        "colab": {
          "base_uri": "https://localhost:8080/"
        },
        "collapsed": true,
        "id": "Tpov-9-yks3S",
        "outputId": "e4ec5a05-b094-405d-b71f-30046aba15fa"
      },
      "execution_count": 43,
      "outputs": [
        {
          "output_type": "stream",
          "name": "stdout",
          "text": [
            "   id    name phone sex_and_age test_number  term_1  term_2  term_3 sex  age  \\\n",
            "1   1    Mike   134        m_12      test 1      76      84      87   m   12   \n",
            "2   2   Linda   270        f_13      test 1      88      90      73   f   13   \n",
            "3   3     Sam   210        m_11      test 1      78      74      80   m   11   \n",
            "4   4  Esther   617        f_12      test 1      68      75      74   f   12   \n",
            "5   5    Mary   114        f_14      test 1      65      67      64   f   14   \n",
            "6   1    Mike   134        m_12      test 2      79      85      88   m   12   \n",
            "7   2   Linda   270        f_13      test 2      90      91      75   f   13   \n",
            "8   3     Sam   210        m_11      test 2      80      76      82   m   11   \n",
            "9   4  Esther   617        f_12      test 2      70      78      76   f   12   \n",
            "10  5    Mary   114        f_14      test 2      66      69      65   f   14   \n",
            "\n",
            "    average_score  \n",
            "1       82.333333  \n",
            "2       83.666667  \n",
            "3       77.333333  \n",
            "4       72.333333  \n",
            "5       65.333333  \n",
            "6       84.000000  \n",
            "7       85.333333  \n",
            "8       79.333333  \n",
            "9       74.666667  \n",
            "10      66.666667  \n"
          ]
        }
      ]
    },
    {
      "cell_type": "code",
      "source": [
        "df_agg = df.groupby(['id', 'name', 'sex', 'age']).agg(\n",
        "    avg_test_1=('term_1', 'mean'),\n",
        "    avg_test_2=('term_2', 'mean'),\n",
        "    avg_test_3=('term_3', 'mean'),\n",
        "    overall_avg=('average_score', 'mean'),\n",
        "    total_tests=('test_number', 'count')\n",
        ").reset_index()\n",
        "\n",
        "print(df_agg)"
      ],
      "metadata": {
        "colab": {
          "base_uri": "https://localhost:8080/"
        },
        "id": "3YdiI68Iz7JX",
        "outputId": "7d033942-fb2e-4b5a-f3f0-8dc2c74701e3"
      },
      "execution_count": 44,
      "outputs": [
        {
          "output_type": "stream",
          "name": "stdout",
          "text": [
            "  id    name sex  age  avg_test_1  avg_test_2  avg_test_3  overall_avg  \\\n",
            "0  1    Mike   m   12        77.5        84.5        87.5    83.166667   \n",
            "1  2   Linda   f   13        89.0        90.5        74.0    84.500000   \n",
            "2  3     Sam   m   11        79.0        75.0        81.0    78.333333   \n",
            "3  4  Esther   f   12        69.0        76.5        75.0    73.500000   \n",
            "4  5    Mary   f   14        65.5        68.0        64.5    66.000000   \n",
            "\n",
            "   total_tests  \n",
            "0            2  \n",
            "1            2  \n",
            "2            2  \n",
            "3            2  \n",
            "4            2  \n"
          ]
        }
      ]
    },
    {
      "cell_type": "markdown",
      "source": [
        "The dataset had inconsistent column names, combined sex and age fields, incorrect data types, and missing values. It was cleaned by standardizing names, splitting sex and age, converting numeric fields, filling missing values, and removing duplicates. The data was then sorted by student ID and test number to ensure proper order. Finally, an average score was calculated using all term scores. The final dataset is structured for easier analysis of student performance across multiple tests."
      ],
      "metadata": {
        "id": "2j0xqELqvGha"
      }
    },
    {
      "cell_type": "markdown",
      "source": [
        "_511_Event_Extents.csv"
      ],
      "metadata": {
        "id": "I1n3COk0qKXW"
      }
    },
    {
      "cell_type": "code",
      "source": [
        "import pandas as pd\n",
        "\n",
        "df = pd.read_csv(\"_511_Event_Extents.csv\")\n",
        "\n",
        "df = df.rename(columns=lambda x: x.strip().replace(' ', '_').lower())\n",
        "\n",
        "date_cols = ['expiredt', 'issuedt', 'updatedt', 'editdate', 'gisupdated']\n",
        "df[date_cols] = df[date_cols].apply(pd.to_datetime, format=\"%Y-%m-%d\", errors='coerce')\n",
        "\n",
        "text_cols = ['route', 'direction', 'cause', 'message', 'headline', 'descriptions', 'organizationid']\n",
        "df[text_cols] = df[text_cols].apply(lambda x: x.astype(str).str.strip())\n",
        "\n",
        "df[['cause', 'organizationid']] = df[['cause', 'organizationid']].fillna('Unknown')\n",
        "df = df.drop(columns=['altroute'], errors='ignore')\n",
        "df = df.drop_duplicates()\n",
        "\n",
        "df['event_duration'] = (df['expiredt'] - df['issuedt']).dt.total_seconds() / 3600\n",
        "df['priority'] = pd.to_numeric(df['priority'], errors='coerce')\n",
        "\n",
        "print(df)\n"
      ],
      "metadata": {
        "colab": {
          "base_uri": "https://localhost:8080/"
        },
        "id": "re6cNxvTqWcX",
        "outputId": "d9867fae-1f12-4827-dd5c-03bf0ae4e8ce"
      },
      "execution_count": 47,
      "outputs": [
        {
          "output_type": "stream",
          "name": "stdout",
          "text": [
            "                                              the_geom expiredt issuedt  \\\n",
            "0    MULTILINESTRING ((-91.88076085037 42.237184118...      NaT     NaT   \n",
            "1    MULTILINESTRING ((-93.488957674817 42.00883390...      NaT     NaT   \n",
            "2    MULTILINESTRING ((-93.61725401037 42.750510000...      NaT     NaT   \n",
            "3    MULTILINESTRING ((-90.899487998812 41.63287310...      NaT     NaT   \n",
            "4    MULTILINESTRING ((-91.506670984863 43.45047897...      NaT     NaT   \n",
            "..                                                 ...      ...     ...   \n",
            "168  MULTILINESTRING ((-92.78024900276 43.284222228...      NaT     NaT   \n",
            "169  MULTILINESTRING ((-95.643944726046 43.21187900...      NaT     NaT   \n",
            "170  MULTILINESTRING ((-91.550127641912 42.05728500...      NaT     NaT   \n",
            "171  MULTILINESTRING ((-93.777019513991 41.60357658...      NaT     NaT   \n",
            "172  MULTILINESTRING ((-91.822140006343 41.17607237...      NaT     NaT   \n",
            "\n",
            "         route updatedt                                            linktxt  \\\n",
            "0     I-380 NB      NaT  https://new.511ia.org/event/IADOT-17843001482BOTH   \n",
            "1     US 30 WB      NaT  https://new.511ia.org/event/IADOT-17608942167BOTH   \n",
            "2     US 69 SB      NaT  https://new.511ia.org/event/IADOT-16837643353BOTH   \n",
            "3      I-80 EB      NaT  https://new.511ia.org/event/IADOT-17688210180BOTH   \n",
            "4     IA 76 SB      NaT  https://new.511ia.org/event/IADOT-17752298970BOTH   \n",
            "..         ...      ...                                                ...   \n",
            "168  US 218 SB      NaT  https://new.511ia.org/event/IADOT-17753191556BOTH   \n",
            "169   US 59 SB      NaT  https://new.511ia.org/event/IADOT-17745236001BOTH   \n",
            "170   IA 13 NB      NaT  https://new.511ia.org/event/IADOT-17124653084BOTH   \n",
            "171    I-80 WB      NaT  https://new.511ia.org/event/IADOT-16677332336BOTH   \n",
            "172    IA 1 NB      NaT  https://new.511ia.org/event/IADOT-17842783048BOTH   \n",
            "\n",
            "                                              headline short_direction  \\\n",
            "0    Starting Monday March 24 I-380 NB: Road Constr...              NB   \n",
            "1                      US 30 WB: Both Shoulders Closed              WB   \n",
            "2                      US 69 SB: Right Shoulder Closed              SB   \n",
            "3                I-80 EB: Night Time Construction Work              EB   \n",
            "4                          IA 76 SB: Road Construction              SB   \n",
            "..                                                 ...             ...   \n",
            "168                       US 218 SB: Road Construction              SB   \n",
            "169                        US 59 SB: Road Construction              SB   \n",
            "170                    IA 13 NB: Right Shoulder Closed              NB   \n",
            "171              I-80 WB: Night Time Construction Work              WB   \n",
            "172  Starting Monday March 24 IA 1 NB: Road Constru...              NB   \n",
            "\n",
            "      direction              cause  ...              id organizationid  \\\n",
            "0    Northbound                nan  ...  IADOT-17843001       Iowa DOT   \n",
            "1     Westbound  road construction  ...  IADOT-17608942       Iowa DOT   \n",
            "2    Southbound  road construction  ...  IADOT-16837643       Iowa DOT   \n",
            "3     Eastbound                nan  ...  IADOT-17688210       Iowa DOT   \n",
            "4    Southbound                nan  ...  IADOT-17752298       Iowa DOT   \n",
            "..          ...                ...  ...             ...            ...   \n",
            "168  Southbound                nan  ...  IADOT-17753191       Iowa DOT   \n",
            "169  Southbound                nan  ...  IADOT-17745236       Iowa DOT   \n",
            "170  Northbound       utility work  ...  IADOT-17124653       Iowa DOT   \n",
            "171   Westbound                nan  ...  IADOT-16677332       Iowa DOT   \n",
            "172  Northbound                nan  ...  IADOT-17842783       Iowa DOT   \n",
            "\n",
            "    priority gisupdated                                            message  \\\n",
            "0          5        NaT  Road Construction Working hours are 07:00 AM t...   \n",
            "1          5        NaT  Both Shoulders Closed due to road construction...   \n",
            "2          7        NaT  Right Shoulder Closed due to road construction...   \n",
            "3          5        NaT  Night Time Construction Work There is a weight...   \n",
            "4          5        NaT  Road Construction Look out for flagger.Working...   \n",
            "..       ...        ...                                                ...   \n",
            "168        5        NaT  Road Construction Pilot car in operation, look...   \n",
            "169        5        NaT  Road Construction There is a weight limit in e...   \n",
            "170        7        NaT  Right Shoulder Closed due to utility work. Wor...   \n",
            "171        5        NaT  Night Time Construction Work Working hours are...   \n",
            "172        5        NaT  Road Construction Look out for flagger.Working...   \n",
            "\n",
            "                                          descriptions objectid shape__length  \\\n",
            "0    Web Text: New Hampton RCE (800-373-7343) - Ben...       69  28299.383533   \n",
            "1                  Web Text: Story County Story County       97   1313.096052   \n",
            "2                Web Text: Wright County Wright County      140    657.364580   \n",
            "3    Web Text: Davenport RCE (800-262-5145) - Scott...       32  61727.438715   \n",
            "4    Web Text: New Hampton RCE (800-373-7343) - All...       94    435.724678   \n",
            "..                                                 ...      ...           ...   \n",
            "168  Web Text: New Hampton RCE (800-373-7343) - Mit...       29   6660.873293   \n",
            "169  Web Text: Cherokee RCE (800-579-2712) - O'Brie...      166    439.904124   \n",
            "170                  Web Text: Linn County Linn County      125   5207.804751   \n",
            "171  Web Text: Grimes RCE (800-251-2707) - Polk Cou...       41   5791.544371   \n",
            "172  Web Text: Fairfield RCE (641-469-4090) - Washi...       17  21466.350553   \n",
            "\n",
            "    editdate  event_duration  \n",
            "0        NaT             NaN  \n",
            "1        NaT             NaN  \n",
            "2        NaT             NaN  \n",
            "3        NaT             NaN  \n",
            "4        NaT             NaN  \n",
            "..       ...             ...  \n",
            "168      NaT             NaN  \n",
            "169      NaT             NaN  \n",
            "170      NaT             NaN  \n",
            "171      NaT             NaN  \n",
            "172      NaT             NaN  \n",
            "\n",
            "[173 rows x 23 columns]\n"
          ]
        }
      ]
    },
    {
      "cell_type": "code",
      "source": [
        "df_long = df.melt(id_vars=['id', 'route', 'direction', 'cause', 'priority', 'issuedt', 'expiredt', 'event_duration'],\n",
        "                  value_vars=['message', 'headline'],\n",
        "                  var_name='event_detail_type', value_name='event_detail')\n",
        "\n",
        "df_agg = df_long.groupby('route').agg(\n",
        "    total_events=('id', 'count'),\n",
        "    avg_priority=('priority', 'mean'),\n",
        "    total_duration=('event_duration', 'sum')\n",
        ").reset_index()\n",
        "\n",
        "print(df_agg)"
      ],
      "metadata": {
        "colab": {
          "base_uri": "https://localhost:8080/"
        },
        "id": "ljtx99v10uIO",
        "outputId": "b6820c58-8235-4c5e-8569-2bb114a7cdd0"
      },
      "execution_count": 35,
      "outputs": [
        {
          "output_type": "stream",
          "name": "stdout",
          "text": [
            "       route  total_events  avg_priority  total_duration\n",
            "0   I-235 EB             2      5.000000      343.435000\n",
            "1   I-235 WB             2      5.000000      343.435000\n",
            "2    I-29 NB             2      7.000000     1061.353333\n",
            "3    I-29 SB             2      7.000000     1061.353333\n",
            "4    I-35 NB             6      4.000000    11190.438889\n",
            "..       ...           ...           ...             ...\n",
            "67  US 69 NB             6      6.333333   110277.962778\n",
            "68  US 69 SB             6      6.333333   110277.962778\n",
            "69  US 71 NB             2      5.000000      675.461667\n",
            "70  US 75 NB             6      4.000000    15704.335000\n",
            "71  US 75 SB             8      4.250000    16578.470556\n",
            "\n",
            "[72 rows x 4 columns]\n"
          ]
        }
      ]
    },
    {
      "cell_type": "markdown",
      "source": [
        "The dataset had messy column names, incorrect date formats, extra spaces, missing values, and duplicates. It was cleaned by standardizing names, converting dates, trimming spaces, filling missing values, and removing duplicates. It was then transformed to long format for better event analysis and aggregated by route to summarize total events, average priority, and total duration. The final dataset provides insights into high-risk roads and long-duration disruptions."
      ],
      "metadata": {
        "id": "ZmAhs18Vu0tA"
      }
    }
  ]
}